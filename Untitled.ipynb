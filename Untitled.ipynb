{
 "cells": [
  {
   "cell_type": "code",
   "execution_count": 1,
   "metadata": {},
   "outputs": [
    {
     "name": "stderr",
     "output_type": "stream",
     "text": [
      "\n",
      "Bad key \"text.kerning_factor\" on line 4 in\n",
      "C:\\Users\\anshul\\Anaconda3\\lib\\site-packages\\matplotlib\\mpl-data\\stylelib\\_classic_test_patch.mplstyle.\n",
      "You probably need to get an updated matplotlibrc file from\n",
      "https://github.com/matplotlib/matplotlib/blob/v3.1.3/matplotlibrc.template\n",
      "or from the matplotlib source distribution\n"
     ]
    }
   ],
   "source": [
    "import pandas as pd\n",
    "import numpy as np\n",
    "import matplotlib.pyplot as plt\n",
    "%matplotlib inline"
   ]
  },
  {
   "cell_type": "code",
   "execution_count": 2,
   "metadata": {},
   "outputs": [],
   "source": [
    "train_df = pd.read_csv(\"./Dataset/Train.csv\")"
   ]
  },
  {
   "cell_type": "code",
   "execution_count": 3,
   "metadata": {},
   "outputs": [],
   "source": [
    "train_df = train_df.drop('Employee_ID' , axis=1)"
   ]
  },
  {
   "cell_type": "code",
   "execution_count": 4,
   "metadata": {},
   "outputs": [
    {
     "data": {
      "text/html": [
       "<div>\n",
       "<style scoped>\n",
       "    .dataframe tbody tr th:only-of-type {\n",
       "        vertical-align: middle;\n",
       "    }\n",
       "\n",
       "    .dataframe tbody tr th {\n",
       "        vertical-align: top;\n",
       "    }\n",
       "\n",
       "    .dataframe thead th {\n",
       "        text-align: right;\n",
       "    }\n",
       "</style>\n",
       "<table border=\"1\" class=\"dataframe\">\n",
       "  <thead>\n",
       "    <tr style=\"text-align: right;\">\n",
       "      <th></th>\n",
       "      <th>Gender</th>\n",
       "      <th>Age</th>\n",
       "      <th>Education_Level</th>\n",
       "      <th>Relationship_Status</th>\n",
       "      <th>Hometown</th>\n",
       "      <th>Unit</th>\n",
       "      <th>Decision_skill_possess</th>\n",
       "      <th>Time_of_service</th>\n",
       "      <th>Time_since_promotion</th>\n",
       "      <th>growth_rate</th>\n",
       "      <th>...</th>\n",
       "      <th>Compensation_and_Benefits</th>\n",
       "      <th>Work_Life_balance</th>\n",
       "      <th>VAR1</th>\n",
       "      <th>VAR2</th>\n",
       "      <th>VAR3</th>\n",
       "      <th>VAR4</th>\n",
       "      <th>VAR5</th>\n",
       "      <th>VAR6</th>\n",
       "      <th>VAR7</th>\n",
       "      <th>Attrition_rate</th>\n",
       "    </tr>\n",
       "  </thead>\n",
       "  <tbody>\n",
       "    <tr>\n",
       "      <th>0</th>\n",
       "      <td>F</td>\n",
       "      <td>42.0</td>\n",
       "      <td>4</td>\n",
       "      <td>Married</td>\n",
       "      <td>Franklin</td>\n",
       "      <td>IT</td>\n",
       "      <td>Conceptual</td>\n",
       "      <td>4.0</td>\n",
       "      <td>4</td>\n",
       "      <td>33</td>\n",
       "      <td>...</td>\n",
       "      <td>type2</td>\n",
       "      <td>3.0</td>\n",
       "      <td>4</td>\n",
       "      <td>0.7516</td>\n",
       "      <td>1.8688</td>\n",
       "      <td>2.0</td>\n",
       "      <td>4</td>\n",
       "      <td>5</td>\n",
       "      <td>3</td>\n",
       "      <td>0.1841</td>\n",
       "    </tr>\n",
       "    <tr>\n",
       "      <th>1</th>\n",
       "      <td>M</td>\n",
       "      <td>24.0</td>\n",
       "      <td>3</td>\n",
       "      <td>Single</td>\n",
       "      <td>Springfield</td>\n",
       "      <td>Logistics</td>\n",
       "      <td>Analytical</td>\n",
       "      <td>5.0</td>\n",
       "      <td>4</td>\n",
       "      <td>36</td>\n",
       "      <td>...</td>\n",
       "      <td>type2</td>\n",
       "      <td>4.0</td>\n",
       "      <td>3</td>\n",
       "      <td>-0.9612</td>\n",
       "      <td>-0.4537</td>\n",
       "      <td>2.0</td>\n",
       "      <td>3</td>\n",
       "      <td>5</td>\n",
       "      <td>3</td>\n",
       "      <td>0.0670</td>\n",
       "    </tr>\n",
       "    <tr>\n",
       "      <th>2</th>\n",
       "      <td>F</td>\n",
       "      <td>58.0</td>\n",
       "      <td>3</td>\n",
       "      <td>Married</td>\n",
       "      <td>Clinton</td>\n",
       "      <td>Quality</td>\n",
       "      <td>Conceptual</td>\n",
       "      <td>27.0</td>\n",
       "      <td>3</td>\n",
       "      <td>51</td>\n",
       "      <td>...</td>\n",
       "      <td>type2</td>\n",
       "      <td>1.0</td>\n",
       "      <td>4</td>\n",
       "      <td>-0.9612</td>\n",
       "      <td>-0.4537</td>\n",
       "      <td>3.0</td>\n",
       "      <td>3</td>\n",
       "      <td>8</td>\n",
       "      <td>3</td>\n",
       "      <td>0.0851</td>\n",
       "    </tr>\n",
       "    <tr>\n",
       "      <th>3</th>\n",
       "      <td>F</td>\n",
       "      <td>26.0</td>\n",
       "      <td>3</td>\n",
       "      <td>Single</td>\n",
       "      <td>Lebanon</td>\n",
       "      <td>Human Resource Management</td>\n",
       "      <td>Behavioral</td>\n",
       "      <td>4.0</td>\n",
       "      <td>3</td>\n",
       "      <td>56</td>\n",
       "      <td>...</td>\n",
       "      <td>type2</td>\n",
       "      <td>1.0</td>\n",
       "      <td>3</td>\n",
       "      <td>-1.8176</td>\n",
       "      <td>-0.4537</td>\n",
       "      <td>NaN</td>\n",
       "      <td>3</td>\n",
       "      <td>7</td>\n",
       "      <td>3</td>\n",
       "      <td>0.0668</td>\n",
       "    </tr>\n",
       "    <tr>\n",
       "      <th>4</th>\n",
       "      <td>F</td>\n",
       "      <td>31.0</td>\n",
       "      <td>1</td>\n",
       "      <td>Married</td>\n",
       "      <td>Springfield</td>\n",
       "      <td>Logistics</td>\n",
       "      <td>Conceptual</td>\n",
       "      <td>5.0</td>\n",
       "      <td>4</td>\n",
       "      <td>62</td>\n",
       "      <td>...</td>\n",
       "      <td>type3</td>\n",
       "      <td>3.0</td>\n",
       "      <td>1</td>\n",
       "      <td>0.7516</td>\n",
       "      <td>-0.4537</td>\n",
       "      <td>2.0</td>\n",
       "      <td>2</td>\n",
       "      <td>8</td>\n",
       "      <td>2</td>\n",
       "      <td>0.1827</td>\n",
       "    </tr>\n",
       "  </tbody>\n",
       "</table>\n",
       "<p>5 rows × 23 columns</p>\n",
       "</div>"
      ],
      "text/plain": [
       "  Gender   Age  Education_Level Relationship_Status     Hometown  \\\n",
       "0      F  42.0                4             Married     Franklin   \n",
       "1      M  24.0                3              Single  Springfield   \n",
       "2      F  58.0                3             Married      Clinton   \n",
       "3      F  26.0                3              Single      Lebanon   \n",
       "4      F  31.0                1             Married  Springfield   \n",
       "\n",
       "                        Unit Decision_skill_possess  Time_of_service  \\\n",
       "0                         IT             Conceptual              4.0   \n",
       "1                  Logistics             Analytical              5.0   \n",
       "2                    Quality             Conceptual             27.0   \n",
       "3  Human Resource Management             Behavioral              4.0   \n",
       "4                  Logistics             Conceptual              5.0   \n",
       "\n",
       "   Time_since_promotion  growth_rate  ...  Compensation_and_Benefits  \\\n",
       "0                     4           33  ...                      type2   \n",
       "1                     4           36  ...                      type2   \n",
       "2                     3           51  ...                      type2   \n",
       "3                     3           56  ...                      type2   \n",
       "4                     4           62  ...                      type3   \n",
       "\n",
       "   Work_Life_balance  VAR1    VAR2    VAR3  VAR4  VAR5  VAR6  VAR7  \\\n",
       "0                3.0     4  0.7516  1.8688   2.0     4     5     3   \n",
       "1                4.0     3 -0.9612 -0.4537   2.0     3     5     3   \n",
       "2                1.0     4 -0.9612 -0.4537   3.0     3     8     3   \n",
       "3                1.0     3 -1.8176 -0.4537   NaN     3     7     3   \n",
       "4                3.0     1  0.7516 -0.4537   2.0     2     8     2   \n",
       "\n",
       "   Attrition_rate  \n",
       "0          0.1841  \n",
       "1          0.0670  \n",
       "2          0.0851  \n",
       "3          0.0668  \n",
       "4          0.1827  \n",
       "\n",
       "[5 rows x 23 columns]"
      ]
     },
     "execution_count": 4,
     "metadata": {},
     "output_type": "execute_result"
    }
   ],
   "source": [
    "train_df.head()"
   ]
  },
  {
   "cell_type": "code",
   "execution_count": 5,
   "metadata": {},
   "outputs": [
    {
     "name": "stdout",
     "output_type": "stream",
     "text": [
      "<class 'pandas.core.frame.DataFrame'>\n",
      "RangeIndex: 7000 entries, 0 to 6999\n",
      "Data columns (total 23 columns):\n",
      " #   Column                     Non-Null Count  Dtype  \n",
      "---  ------                     --------------  -----  \n",
      " 0   Gender                     7000 non-null   object \n",
      " 1   Age                        6588 non-null   float64\n",
      " 2   Education_Level            7000 non-null   int64  \n",
      " 3   Relationship_Status        7000 non-null   object \n",
      " 4   Hometown                   7000 non-null   object \n",
      " 5   Unit                       7000 non-null   object \n",
      " 6   Decision_skill_possess     7000 non-null   object \n",
      " 7   Time_of_service            6856 non-null   float64\n",
      " 8   Time_since_promotion       7000 non-null   int64  \n",
      " 9   growth_rate                7000 non-null   int64  \n",
      " 10  Travel_Rate                7000 non-null   int64  \n",
      " 11  Post_Level                 7000 non-null   int64  \n",
      " 12  Pay_Scale                  6991 non-null   float64\n",
      " 13  Compensation_and_Benefits  7000 non-null   object \n",
      " 14  Work_Life_balance          6989 non-null   float64\n",
      " 15  VAR1                       7000 non-null   int64  \n",
      " 16  VAR2                       6423 non-null   float64\n",
      " 17  VAR3                       7000 non-null   float64\n",
      " 18  VAR4                       6344 non-null   float64\n",
      " 19  VAR5                       7000 non-null   int64  \n",
      " 20  VAR6                       7000 non-null   int64  \n",
      " 21  VAR7                       7000 non-null   int64  \n",
      " 22  Attrition_rate             7000 non-null   float64\n",
      "dtypes: float64(8), int64(9), object(6)\n",
      "memory usage: 1.2+ MB\n"
     ]
    }
   ],
   "source": [
    "train_df.info()"
   ]
  },
  {
   "cell_type": "code",
   "execution_count": 6,
   "metadata": {},
   "outputs": [],
   "source": [
    "train_df.Age = train_df.Age.fillna(train_df.Age.mean())"
   ]
  },
  {
   "cell_type": "code",
   "execution_count": 7,
   "metadata": {},
   "outputs": [],
   "source": [
    "train_df.Time_of_service = train_df.Time_of_service.fillna(train_df.Time_of_service.mean())"
   ]
  },
  {
   "cell_type": "code",
   "execution_count": 8,
   "metadata": {},
   "outputs": [],
   "source": [
    "train_df.Pay_Scale = train_df.Pay_Scale.fillna(train_df.Pay_Scale.mean())"
   ]
  },
  {
   "cell_type": "code",
   "execution_count": 9,
   "metadata": {},
   "outputs": [],
   "source": [
    "train_df.Work_Life_balance = train_df.Work_Life_balance.fillna(train_df.Work_Life_balance.mean())"
   ]
  },
  {
   "cell_type": "code",
   "execution_count": 10,
   "metadata": {},
   "outputs": [],
   "source": [
    "train_df.VAR2 = train_df.VAR2.fillna(train_df.VAR2.mean())"
   ]
  },
  {
   "cell_type": "code",
   "execution_count": 11,
   "metadata": {},
   "outputs": [],
   "source": [
    "train_df.VAR4 = train_df.VAR4.fillna(train_df.VAR4.mean())"
   ]
  },
  {
   "cell_type": "code",
   "execution_count": 12,
   "metadata": {},
   "outputs": [],
   "source": [
    "cat_col = [\"Gender\" , \"Relationship_Status\" , \"Hometown\" , \"Unit\" , \"Decision_skill_possess\" , \"Compensation_and_Benefits\"]"
   ]
  },
  {
   "cell_type": "code",
   "execution_count": 13,
   "metadata": {},
   "outputs": [],
   "source": [
    "from sklearn.preprocessing import LabelEncoder\n",
    "le = LabelEncoder()\n",
    "\n",
    "for i in cat_col:\n",
    "    train_df[i] = le.fit_transform(train_df[i])"
   ]
  },
  {
   "cell_type": "code",
   "execution_count": 14,
   "metadata": {},
   "outputs": [],
   "source": [
    "mx_arr = train_df.max()"
   ]
  },
  {
   "cell_type": "code",
   "execution_count": 15,
   "metadata": {},
   "outputs": [
    {
     "data": {
      "text/plain": [
       "(7000, 23)"
      ]
     },
     "execution_count": 15,
     "metadata": {},
     "output_type": "execute_result"
    }
   ],
   "source": [
    "train_df.shape"
   ]
  },
  {
   "cell_type": "code",
   "execution_count": 16,
   "metadata": {},
   "outputs": [
    {
     "data": {
      "text/plain": [
       "Gender                        1.0000\n",
       "Age                          65.0000\n",
       "Education_Level               5.0000\n",
       "Relationship_Status           1.0000\n",
       "Hometown                      4.0000\n",
       "Unit                         11.0000\n",
       "Decision_skill_possess        3.0000\n",
       "Time_of_service              43.0000\n",
       "Time_since_promotion          4.0000\n",
       "growth_rate                  74.0000\n",
       "Travel_Rate                   2.0000\n",
       "Post_Level                    5.0000\n",
       "Pay_Scale                    10.0000\n",
       "Compensation_and_Benefits     4.0000\n",
       "Work_Life_balance             5.0000\n",
       "VAR1                          5.0000\n",
       "VAR2                          1.6081\n",
       "VAR3                          1.8688\n",
       "VAR4                          3.0000\n",
       "VAR5                          5.0000\n",
       "VAR6                          9.0000\n",
       "VAR7                          5.0000\n",
       "Attrition_rate                1.0000\n",
       "dtype: float64"
      ]
     },
     "execution_count": 16,
     "metadata": {},
     "output_type": "execute_result"
    }
   ],
   "source": [
    "mx_arr[22] = 1.00\n",
    "mx_arr"
   ]
  },
  {
   "cell_type": "code",
   "execution_count": 17,
   "metadata": {},
   "outputs": [],
   "source": [
    "train_df = train_df / mx_arr"
   ]
  },
  {
   "cell_type": "code",
   "execution_count": 18,
   "metadata": {},
   "outputs": [],
   "source": [
    "train_output = train_df['Attrition_rate']"
   ]
  },
  {
   "cell_type": "code",
   "execution_count": 19,
   "metadata": {},
   "outputs": [],
   "source": [
    "train_df = train_df.drop('Attrition_rate' , axis=1)"
   ]
  },
  {
   "cell_type": "code",
   "execution_count": 20,
   "metadata": {},
   "outputs": [
    {
     "data": {
      "text/plain": [
       "(7000, 22)"
      ]
     },
     "execution_count": 20,
     "metadata": {},
     "output_type": "execute_result"
    }
   ],
   "source": [
    "train_df.shape"
   ]
  },
  {
   "cell_type": "code",
   "execution_count": 21,
   "metadata": {},
   "outputs": [],
   "source": [
    "import tensorflow as tf\n",
    "from tensorflow.keras import layers\n",
    "from tensorflow.keras.models import Model"
   ]
  },
  {
   "cell_type": "code",
   "execution_count": 22,
   "metadata": {},
   "outputs": [],
   "source": [
    "#Creating Model\n",
    "\n",
    "inp_vect = layers.Input(shape=(22,))\n",
    "\n",
    "#x = layers.Dense(11 , activation='relu')(inp_vect)\n",
    "\n",
    "#x = layers.Dense(11 , activation='relu')(x)\n",
    "\n",
    "output = layers.Dense(1 , activation='relu')(inp_vect)\n",
    "\n",
    "model = Model(inp_vect , output)"
   ]
  },
  {
   "cell_type": "code",
   "execution_count": 23,
   "metadata": {},
   "outputs": [
    {
     "name": "stdout",
     "output_type": "stream",
     "text": [
      "Model: \"model\"\n",
      "_________________________________________________________________\n",
      "Layer (type)                 Output Shape              Param #   \n",
      "=================================================================\n",
      "input_1 (InputLayer)         [(None, 22)]              0         \n",
      "_________________________________________________________________\n",
      "dense (Dense)                (None, 1)                 23        \n",
      "=================================================================\n",
      "Total params: 23\n",
      "Trainable params: 23\n",
      "Non-trainable params: 0\n",
      "_________________________________________________________________\n"
     ]
    }
   ],
   "source": [
    "model.summary()"
   ]
  },
  {
   "cell_type": "code",
   "execution_count": 24,
   "metadata": {},
   "outputs": [],
   "source": [
    "model.compile(loss='mean_squared_error' , optimizer='adam' )"
   ]
  },
  {
   "cell_type": "code",
   "execution_count": 39,
   "metadata": {},
   "outputs": [
    {
     "name": "stdout",
     "output_type": "stream",
     "text": [
      "Train on 7000 samples\n",
      "Epoch 1/13\n",
      "7000/7000 [==============================] - 1s 97us/sample - loss: 0.0348\n",
      "Epoch 2/13\n",
      "7000/7000 [==============================] - 0s 65us/sample - loss: 0.0348\n",
      "Epoch 3/13\n",
      "7000/7000 [==============================] - 0s 65us/sample - loss: 0.0347\n",
      "Epoch 4/13\n",
      "7000/7000 [==============================] - 0s 65us/sample - loss: 0.0346\n",
      "Epoch 5/13\n",
      "7000/7000 [==============================] - 0s 66us/sample - loss: 0.0347\n",
      "Epoch 6/13\n",
      "7000/7000 [==============================] - 0s 66us/sample - loss: 0.0346\n",
      "Epoch 7/13\n",
      "7000/7000 [==============================] - 0s 65us/sample - loss: 0.0346\n",
      "Epoch 8/13\n",
      "7000/7000 [==============================] - 0s 65us/sample - loss: 0.0346\n",
      "Epoch 9/13\n",
      "7000/7000 [==============================] - 0s 66us/sample - loss: 0.0347\n",
      "Epoch 10/13\n",
      "7000/7000 [==============================] - 0s 66us/sample - loss: 0.0346\n",
      "Epoch 11/13\n",
      "7000/7000 [==============================] - 0s 66us/sample - loss: 0.0347\n",
      "Epoch 12/13\n",
      "7000/7000 [==============================] - 1s 72us/sample - loss: 0.0346\n",
      "Epoch 13/13\n",
      "7000/7000 [==============================] - 0s 67us/sample - loss: 0.0346\n"
     ]
    },
    {
     "data": {
      "text/plain": [
       "<tensorflow.python.keras.callbacks.History at 0x1f74c06e748>"
      ]
     },
     "execution_count": 39,
     "metadata": {},
     "output_type": "execute_result"
    }
   ],
   "source": [
    "model.fit(train_df , train_output , epochs=13 , verbose=1)"
   ]
  },
  {
   "cell_type": "code",
   "execution_count": 40,
   "metadata": {},
   "outputs": [],
   "source": [
    "test_df = pd.read_csv(\"./Dataset/Test.csv\")"
   ]
  },
  {
   "cell_type": "code",
   "execution_count": 41,
   "metadata": {},
   "outputs": [],
   "source": [
    "e_id = test_df['Employee_ID']"
   ]
  },
  {
   "cell_type": "code",
   "execution_count": 42,
   "metadata": {},
   "outputs": [],
   "source": [
    "test_df = test_df.drop('Employee_ID' , axis=1)"
   ]
  },
  {
   "cell_type": "code",
   "execution_count": 43,
   "metadata": {},
   "outputs": [],
   "source": [
    "for i in cat_col:\n",
    "    test_df[i] = le.fit_transform(test_df[i])"
   ]
  },
  {
   "cell_type": "code",
   "execution_count": 44,
   "metadata": {},
   "outputs": [
    {
     "data": {
      "text/plain": [
       "(3000, 22)"
      ]
     },
     "execution_count": 44,
     "metadata": {},
     "output_type": "execute_result"
    }
   ],
   "source": [
    "test_df.shape"
   ]
  },
  {
   "cell_type": "code",
   "execution_count": 45,
   "metadata": {},
   "outputs": [],
   "source": [
    "test_arr = mx_arr[:-1]"
   ]
  },
  {
   "cell_type": "code",
   "execution_count": 46,
   "metadata": {},
   "outputs": [
    {
     "data": {
      "text/plain": [
       "(23,)"
      ]
     },
     "execution_count": 46,
     "metadata": {},
     "output_type": "execute_result"
    }
   ],
   "source": [
    "mx_arr.shape"
   ]
  },
  {
   "cell_type": "code",
   "execution_count": 47,
   "metadata": {},
   "outputs": [
    {
     "data": {
      "text/plain": [
       "(22,)"
      ]
     },
     "execution_count": 47,
     "metadata": {},
     "output_type": "execute_result"
    }
   ],
   "source": [
    "test_arr.shape"
   ]
  },
  {
   "cell_type": "code",
   "execution_count": 48,
   "metadata": {},
   "outputs": [],
   "source": [
    "test_df = test_df / test_arr"
   ]
  },
  {
   "cell_type": "code",
   "execution_count": 49,
   "metadata": {},
   "outputs": [],
   "source": [
    "test_out = model.predict(test_df)"
   ]
  },
  {
   "cell_type": "code",
   "execution_count": 50,
   "metadata": {},
   "outputs": [],
   "source": [
    "test_out = test_out.reshape(test_out.shape[0])"
   ]
  },
  {
   "cell_type": "code",
   "execution_count": 51,
   "metadata": {},
   "outputs": [],
   "source": [
    "new_df = pd.DataFrame({'Employee_ID' : e_id , 'Attrition_rate' : test_out})"
   ]
  },
  {
   "cell_type": "code",
   "execution_count": 52,
   "metadata": {},
   "outputs": [],
   "source": [
    "new_df.to_csv('out_file.csv' , index=False)"
   ]
  },
  {
   "cell_type": "code",
   "execution_count": null,
   "metadata": {},
   "outputs": [],
   "source": []
  }
 ],
 "metadata": {
  "kernelspec": {
   "display_name": "Python 3",
   "language": "python",
   "name": "python3"
  },
  "language_info": {
   "codemirror_mode": {
    "name": "ipython",
    "version": 3
   },
   "file_extension": ".py",
   "mimetype": "text/x-python",
   "name": "python",
   "nbconvert_exporter": "python",
   "pygments_lexer": "ipython3",
   "version": "3.6.5"
  }
 },
 "nbformat": 4,
 "nbformat_minor": 4
}
